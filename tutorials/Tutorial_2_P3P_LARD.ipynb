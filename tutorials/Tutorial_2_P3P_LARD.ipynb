{
 "cells": [
  {
   "cell_type": "code",
   "execution_count": null,
   "id": "c4a28289",
   "metadata": {},
   "outputs": [
    {
     "ename": "ModuleNotFoundError",
     "evalue": "No module named 'poseidon'",
     "output_type": "error",
     "traceback": [
      "\u001b[31m---------------------------------------------------------------------------\u001b[39m",
      "\u001b[31mModuleNotFoundError\u001b[39m                       Traceback (most recent call last)",
      "\u001b[36mCell\u001b[39m\u001b[36m \u001b[39m\u001b[32mIn[5]\u001b[39m\u001b[32m, line 5\u001b[39m\n\u001b[32m      2\u001b[39m \u001b[38;5;28;01mimport\u001b[39;00m\u001b[38;5;250m \u001b[39m\u001b[34;01mmatplotlib\u001b[39;00m\u001b[34;01m.\u001b[39;00m\u001b[34;01mimage\u001b[39;00m\u001b[38;5;250m \u001b[39m\u001b[38;5;28;01mas\u001b[39;00m\u001b[38;5;250m \u001b[39m\u001b[34;01mmpimg\u001b[39;00m\n\u001b[32m      3\u001b[39m \u001b[38;5;28;01mimport\u001b[39;00m\u001b[38;5;250m \u001b[39m\u001b[34;01mpandas\u001b[39;00m\u001b[38;5;250m \u001b[39m\u001b[38;5;28;01mas\u001b[39;00m\u001b[38;5;250m \u001b[39m\u001b[34;01mpd\u001b[39;00m\n\u001b[32m----> \u001b[39m\u001b[32m5\u001b[39m \u001b[38;5;28;01mfrom\u001b[39;00m\u001b[38;5;250m \u001b[39m\u001b[34;01mposeidon\u001b[39;00m\u001b[34;01m.\u001b[39;00m\u001b[34;01mnumpy\u001b[39;00m\u001b[34;01m.\u001b[39;00m\u001b[34;01mutils\u001b[39;00m\u001b[34;01m.\u001b[39;00m\u001b[34;01minitialize_camera_parameters\u001b[39;00m\u001b[38;5;250m \u001b[39m\u001b[38;5;28;01mimport\u001b[39;00m generate_camera_rotation\n\u001b[32m      7\u001b[39m img = mpimg.imread(\u001b[33m'\u001b[39m\u001b[33mLARD_example.jpg\u001b[39m\u001b[33m'\u001b[39m)\n\u001b[32m      8\u001b[39m plt.imshow(img)\n",
      "\u001b[31mModuleNotFoundError\u001b[39m: No module named 'poseidon'"
     ]
    }
   ],
   "source": [
    "import matplotlib.pyplot as plt\n",
    "import matplotlib.image as mpimg\n",
    "import pandas as pd\n",
    "import POSEIDON \n",
    "from poseidon.numpy.utils.initialize_camera_parameters import generate_camera_rotation\n",
    "\n",
    "img = mpimg.imread('LARD_example.jpg')\n",
    "plt.imshow(img)\n",
    "\n",
    "df = pd.read_csv('extract_labeling_Bing.csv', delimiter=';')\n",
    "dic = df.to_dict(orient='records')[0]\n",
    "print(dic)\n",
    "TL = [dic['x_TL'],dic['y_TL']]\n",
    "plt.scatter(TL[0], TL[1], label='Top Left')\n",
    "\n",
    "TR = [dic['x_TR'],dic['y_TR']]\n",
    "plt.scatter(TR[0], TR[1], label='Top Right')\n",
    "\n",
    "BL = [dic['x_BL'],dic['y_BL']]\n",
    "plt.scatter(BL[0], BL[1], label='Bottom Left')\n",
    "\n",
    "BR = [dic['x_BR'],dic['y_BR']]\n",
    "plt.scatter(BR[0], BR[1], label='Bottom Right')\n",
    "\n",
    "\n",
    "plt.legend()\n",
    "plt.show()\n",
    "\n",
    "real_position_camera = [dic['lat_cam'],dic['lon_cam'],dic['alt_cam']]\n",
    "print(\"Real position of the camera (lat,lon,alt):\", real_position_camera)\n",
    "yaw,pitch,roll = dic['yaw'],dic['pitch'],dic['roll']\n",
    "print(\"Camera orientation (yaw,pitch,roll):\", yaw, pitch, roll)\n"
   ]
  }
 ],
 "metadata": {
  "kernelspec": {
   "display_name": "Python 3",
   "language": "python",
   "name": "python3"
  },
  "language_info": {
   "codemirror_mode": {
    "name": "ipython",
    "version": 3
   },
   "file_extension": ".py",
   "mimetype": "text/x-python",
   "name": "python",
   "nbconvert_exporter": "python",
   "pygments_lexer": "ipython3",
   "version": "3.13.5"
  }
 },
 "nbformat": 4,
 "nbformat_minor": 5
}
